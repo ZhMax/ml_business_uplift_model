{
 "cells": [
  {
   "cell_type": "code",
   "execution_count": 3,
   "metadata": {},
   "outputs": [],
   "source": [
    "import pandas as pd\n",
    "import json\n",
    "import urllib.request\n",
    "\n",
    "from sklearn.metrics import roc_auc_score,roc_curve"
   ]
  },
  {
   "cell_type": "code",
   "execution_count": 4,
   "metadata": {},
   "outputs": [],
   "source": [
    "def send_json(df_clients, df_purch):\n",
    "    df_clients = df_clients.to_dict()\n",
    "    df_purch = df_purch.to_dict()\n",
    "\n",
    "    body = {'df_clients': df_clients,\n",
    "            'df_purch': df_purch}\n",
    "\n",
    "    jsondata = json.dumps(body)\n",
    "    jsondataasbytes = jsondata.encode('utf-8')   # needs to be bytes\n",
    "\n",
    "    myurl = \"http://127.0.0.1:5000/predict\"\n",
    "    # myurl = \"http://localhost:5000/predict\"\n",
    "    req = urllib.request.Request(myurl)\n",
    "    req.add_header('Content-Type', 'application/json; charset=utf-8')\n",
    "    req.add_header('Content-Length', len(jsondataasbytes))\n",
    "    #print (jsondataasbytes)\n",
    "    response = urllib.request.urlopen(req, jsondataasbytes)\n",
    "\n",
    "\n",
    "    return json.loads(response.read())['predictions']"
   ]
  },
  {
   "cell_type": "code",
   "execution_count": 5,
   "metadata": {},
   "outputs": [],
   "source": [
    "#Data Loading\n",
    "\n",
    "DATA_PATH = 'E:/Programming/RecSys/Course_work/x5-uplift-valid/'\n",
    "FOLDER_DATA = DATA_PATH + 'data/'\n",
    "NUM_CLIENTS = 10\n",
    "\n",
    "df_clients = pd.read_csv(FOLDER_DATA + 'clients2.csv')\n",
    "df_clients.drop(columns={'client_id.1'},\n",
    "                inplace=True)\n",
    "# df_products = pd.read_csv(FOLDER_DATA + 'products.csv')\n",
    "df_test = pd.read_csv(FOLDER_DATA + 'test.csv')\n",
    "df_test = df_test.iloc[0:NUM_CLIENTS]\n",
    "\n",
    "df_test_purch = pd.read_csv(DATA_PATH + 'test_purch/test_purch.csv')\n",
    "\n",
    "df_test_clients = df_test.merge(df_clients,\n",
    "                                how='inner',\n",
    "                                on='client_id')\n",
    "\n",
    "df_test_purch = df_test.merge(df_test_purch,\n",
    "                                how='inner',\n",
    "                                on='client_id')"
   ]
  },
  {
   "cell_type": "code",
   "execution_count": 6,
   "metadata": {},
   "outputs": [],
   "source": [
    "dict_json = send_json(df_test_clients,\n",
    "                      df_test_purch)"
   ]
  },
  {
   "cell_type": "code",
   "execution_count": 7,
   "metadata": {},
   "outputs": [
    {
     "data": {
      "text/html": [
       "<div>\n",
       "<style scoped>\n",
       "    .dataframe tbody tr th:only-of-type {\n",
       "        vertical-align: middle;\n",
       "    }\n",
       "\n",
       "    .dataframe tbody tr th {\n",
       "        vertical-align: top;\n",
       "    }\n",
       "\n",
       "    .dataframe thead th {\n",
       "        text-align: right;\n",
       "    }\n",
       "</style>\n",
       "<table border=\"1\" class=\"dataframe\">\n",
       "  <thead>\n",
       "    <tr style=\"text-align: right;\">\n",
       "      <th></th>\n",
       "      <th>target_preds</th>\n",
       "    </tr>\n",
       "    <tr>\n",
       "      <th>client_id</th>\n",
       "      <th></th>\n",
       "    </tr>\n",
       "  </thead>\n",
       "  <tbody>\n",
       "    <tr>\n",
       "      <th>4789764e7d</th>\n",
       "      <td>0.035938</td>\n",
       "    </tr>\n",
       "    <tr>\n",
       "      <th>5047ab8574</th>\n",
       "      <td>0.214321</td>\n",
       "    </tr>\n",
       "    <tr>\n",
       "      <th>5f9a02e6a5</th>\n",
       "      <td>0.030496</td>\n",
       "    </tr>\n",
       "    <tr>\n",
       "      <th>7e66529579</th>\n",
       "      <td>0.036198</td>\n",
       "    </tr>\n",
       "    <tr>\n",
       "      <th>908cd9b8e8</th>\n",
       "      <td>0.032090</td>\n",
       "    </tr>\n",
       "    <tr>\n",
       "      <th>a9a604ed6e</th>\n",
       "      <td>0.012931</td>\n",
       "    </tr>\n",
       "    <tr>\n",
       "      <th>dceb8ce861</th>\n",
       "      <td>0.029931</td>\n",
       "    </tr>\n",
       "    <tr>\n",
       "      <th>e3574a0076</th>\n",
       "      <td>0.029045</td>\n",
       "    </tr>\n",
       "    <tr>\n",
       "      <th>ebd7360016</th>\n",
       "      <td>0.031428</td>\n",
       "    </tr>\n",
       "    <tr>\n",
       "      <th>f4f0ac6b06</th>\n",
       "      <td>0.028875</td>\n",
       "    </tr>\n",
       "  </tbody>\n",
       "</table>\n",
       "</div>"
      ],
      "text/plain": [
       "            target_preds\n",
       "client_id               \n",
       "4789764e7d      0.035938\n",
       "5047ab8574      0.214321\n",
       "5f9a02e6a5      0.030496\n",
       "7e66529579      0.036198\n",
       "908cd9b8e8      0.032090\n",
       "a9a604ed6e      0.012931\n",
       "dceb8ce861      0.029931\n",
       "e3574a0076      0.029045\n",
       "ebd7360016      0.031428\n",
       "f4f0ac6b06      0.028875"
      ]
     },
     "execution_count": 7,
     "metadata": {},
     "output_type": "execute_result"
    }
   ],
   "source": [
    "y_pred_df = pd.DataFrame.from_dict(dict_json,\n",
    "                                   orient='columns')\n",
    "y_pred_df.index.name = 'client_id'\n",
    "y_pred_df                            "
   ]
  }
 ],
 "metadata": {
  "kernelspec": {
   "display_name": "Python 3.10.3",
   "language": "python",
   "name": "python3"
  },
  "language_info": {
   "codemirror_mode": {
    "name": "ipython",
    "version": 3
   },
   "file_extension": ".py",
   "mimetype": "text/x-python",
   "name": "python",
   "nbconvert_exporter": "python",
   "pygments_lexer": "ipython3",
   "version": "3.10.3"
  },
  "orig_nbformat": 4,
  "vscode": {
   "interpreter": {
    "hash": "fd82a46e4cf792d4c4a05cbbd8138251466e4aecf54c5a101280ed45d968b0ad"
   }
  }
 },
 "nbformat": 4,
 "nbformat_minor": 2
}
